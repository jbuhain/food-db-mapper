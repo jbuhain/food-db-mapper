{
 "cells": [
  {
   "cell_type": "code",
   "execution_count": 2,
   "metadata": {},
   "outputs": [
    {
     "data": {
      "text/html": [
       "<div>\n",
       "<style scoped>\n",
       "    .dataframe tbody tr th:only-of-type {\n",
       "        vertical-align: middle;\n",
       "    }\n",
       "\n",
       "    .dataframe tbody tr th {\n",
       "        vertical-align: top;\n",
       "    }\n",
       "\n",
       "    .dataframe thead th {\n",
       "        text-align: right;\n",
       "    }\n",
       "</style>\n",
       "<table border=\"1\" class=\"dataframe\">\n",
       "  <thead>\n",
       "    <tr style=\"text-align: right;\">\n",
       "      <th></th>\n",
       "      <th>FødevareNavn</th>\n",
       "      <th>FoodName</th>\n",
       "      <th>FoodID</th>\n",
       "      <th>TaxonomicName</th>\n",
       "      <th>NCBI</th>\n",
       "      <th>FoodEx2Code</th>\n",
       "      <th>FoodEx2Description</th>\n",
       "      <th>FoodOntology</th>\n",
       "      <th>LangualCode</th>\n",
       "      <th>FoodGroupID</th>\n",
       "      <th>FødevareGruppe</th>\n",
       "      <th>FoodGroup</th>\n",
       "    </tr>\n",
       "  </thead>\n",
       "  <tbody>\n",
       "    <tr>\n",
       "      <th>0</th>\n",
       "      <td>Jordbær, rå</td>\n",
       "      <td>Strawberry, raw</td>\n",
       "      <td>1</td>\n",
       "      <td>Fragaria x ananassa (Duchesne)</td>\n",
       "      <td>3747.0</td>\n",
       "      <td>A01EA#F20.A07QT</td>\n",
       "      <td>Strawberries, PART-CONSUMED-ANALYSED = W/o cap...</td>\n",
       "      <td>FOODON_03301722</td>\n",
       "      <td>{F0003, K0003, A0833, Z0001, E0150, A0707, A06...</td>\n",
       "      <td>51</td>\n",
       "      <td>Bærfrugt</td>\n",
       "      <td>Soft fruit</td>\n",
       "    </tr>\n",
       "  </tbody>\n",
       "</table>\n",
       "</div>"
      ],
      "text/plain": [
       "  FødevareNavn         FoodName  FoodID                   TaxonomicName  \\\n",
       "0  Jordbær, rå  Strawberry, raw       1  Fragaria x ananassa (Duchesne)   \n",
       "\n",
       "     NCBI      FoodEx2Code                                 FoodEx2Description  \\\n",
       "0  3747.0  A01EA#F20.A07QT  Strawberries, PART-CONSUMED-ANALYSED = W/o cap...   \n",
       "\n",
       "      FoodOntology                                        LangualCode  \\\n",
       "0  FOODON_03301722  {F0003, K0003, A0833, Z0001, E0150, A0707, A06...   \n",
       "\n",
       "   FoodGroupID FødevareGruppe   FoodGroup  \n",
       "0           51       Bærfrugt  Soft fruit  "
      ]
     },
     "execution_count": 2,
     "metadata": {},
     "output_type": "execute_result"
    }
   ],
   "source": [
    "import pandas as pd\n",
    "\n",
    "\n",
    "def read_excel_file(excel_path, sheet_name):\n",
    "    xls = pd.ExcelFile(excel_path)\n",
    "    df = pd.read_excel(xls, sheet_name)\n",
    "    return df\n",
    "\n",
    "def convert_to_set(langual_codes, delimiter=' '):\n",
    "    if isinstance(langual_codes, str):\n",
    "        return set(langual_codes.split(delimiter))\n",
    "    else:\n",
    "        return set() \n",
    "\n",
    "excel_file_path = 'data/Frida_5.1_November_2023.xlsx'\n",
    "df_frida_langal = read_excel_file(excel_file_path, 'Food')\n",
    "df_frida_langal['LangualCode'] = df_frida_langal['LangualCode'].apply(lambda x: convert_to_set(x, delimiter=','))\n",
    "\n",
    "df_frida_langal.head(1)"
   ]
  },
  {
   "cell_type": "code",
   "execution_count": 6,
   "metadata": {},
   "outputs": [
    {
     "data": {
      "text/html": [
       "<div>\n",
       "<style scoped>\n",
       "    .dataframe tbody tr th:only-of-type {\n",
       "        vertical-align: middle;\n",
       "    }\n",
       "\n",
       "    .dataframe tbody tr th {\n",
       "        vertical-align: top;\n",
       "    }\n",
       "\n",
       "    .dataframe thead th {\n",
       "        text-align: right;\n",
       "    }\n",
       "</style>\n",
       "<table border=\"1\" class=\"dataframe\">\n",
       "  <thead>\n",
       "    <tr style=\"text-align: right;\">\n",
       "      <th></th>\n",
       "      <th>FoodName</th>\n",
       "      <th>LangualCode</th>\n",
       "    </tr>\n",
       "  </thead>\n",
       "  <tbody>\n",
       "    <tr>\n",
       "      <th>0</th>\n",
       "      <td>Strawberry, raw</td>\n",
       "      <td>{F0003, K0003, A0833, Z0001, E0150, A0707, A06...</td>\n",
       "    </tr>\n",
       "    <tr>\n",
       "      <th>1</th>\n",
       "      <td>Apple, raw, all varieties</td>\n",
       "      <td>{F0003, K0003, A0833, Z0001, A0669, E0150, A07...</td>\n",
       "    </tr>\n",
       "    <tr>\n",
       "      <th>2</th>\n",
       "      <td>Banana, raw</td>\n",
       "      <td>{F0003, K0003, A0833, Z0001, E0150, A0707, A06...</td>\n",
       "    </tr>\n",
       "    <tr>\n",
       "      <th>3</th>\n",
       "      <td>Potato, raw</td>\n",
       "      <td>{F0003, K0003, A0731, A0829, Z0001, A0706, E01...</td>\n",
       "    </tr>\n",
       "    <tr>\n",
       "      <th>4</th>\n",
       "      <td>Milk, whole, konventional (not organic), 3.5 %...</td>\n",
       "      <td>{K0003, E0123, A0780, J0135, B1201, C0235, A04...</td>\n",
       "    </tr>\n",
       "    <tr>\n",
       "      <th>...</th>\n",
       "      <td>...</td>\n",
       "      <td>...</td>\n",
       "    </tr>\n",
       "    <tr>\n",
       "      <th>1288</th>\n",
       "      <td>Pineapple, raw</td>\n",
       "      <td>{}</td>\n",
       "    </tr>\n",
       "    <tr>\n",
       "      <th>1289</th>\n",
       "      <td>Grapefruit, raw</td>\n",
       "      <td>{}</td>\n",
       "    </tr>\n",
       "    <tr>\n",
       "      <th>1290</th>\n",
       "      <td>Melon, honeydew, raw</td>\n",
       "      <td>{}</td>\n",
       "    </tr>\n",
       "    <tr>\n",
       "      <th>1291</th>\n",
       "      <td>Kiwi fruit, raw</td>\n",
       "      <td>{}</td>\n",
       "    </tr>\n",
       "    <tr>\n",
       "      <th>1292</th>\n",
       "      <td>Mango, raw</td>\n",
       "      <td>{}</td>\n",
       "    </tr>\n",
       "  </tbody>\n",
       "</table>\n",
       "<p>1293 rows × 2 columns</p>\n",
       "</div>"
      ],
      "text/plain": [
       "                                               FoodName  \\\n",
       "0                                       Strawberry, raw   \n",
       "1                             Apple, raw, all varieties   \n",
       "2                                           Banana, raw   \n",
       "3                                           Potato, raw   \n",
       "4     Milk, whole, konventional (not organic), 3.5 %...   \n",
       "...                                                 ...   \n",
       "1288                                     Pineapple, raw   \n",
       "1289                                    Grapefruit, raw   \n",
       "1290                               Melon, honeydew, raw   \n",
       "1291                                    Kiwi fruit, raw   \n",
       "1292                                         Mango, raw   \n",
       "\n",
       "                                            LangualCode  \n",
       "0     {F0003, K0003, A0833, Z0001, E0150, A0707, A06...  \n",
       "1     {F0003, K0003, A0833, Z0001, A0669, E0150, A07...  \n",
       "2     {F0003, K0003, A0833, Z0001, E0150, A0707, A06...  \n",
       "3     {F0003, K0003, A0731, A0829, Z0001, A0706, E01...  \n",
       "4     {K0003, E0123, A0780, J0135, B1201, C0235, A04...  \n",
       "...                                                 ...  \n",
       "1288                                                 {}  \n",
       "1289                                                 {}  \n",
       "1290                                                 {}  \n",
       "1291                                                 {}  \n",
       "1292                                                 {}  \n",
       "\n",
       "[1293 rows x 2 columns]"
      ]
     },
     "execution_count": 6,
     "metadata": {},
     "output_type": "execute_result"
    }
   ],
   "source": [
    "# Seperate Cols\n",
    "df_frida_FoodNameLangual = df_frida_langal[['FoodName', 'LangualCode']]\n",
    "df_frida_FoodNameLangual"
   ]
  },
  {
   "cell_type": "code",
   "execution_count": 9,
   "metadata": {},
   "outputs": [],
   "source": [
    "df_frida_FoodName = df_frida_langal['FoodName']\n",
    "\n",
    "df_frida_FoodName.to_excel(\"Preprocess/Frida_Preprocess_FoodNameOnly.xlsx\", index=False)"
   ]
  },
  {
   "cell_type": "code",
   "execution_count": 22,
   "metadata": {},
   "outputs": [],
   "source": [
    "def read_text_file(file_path):\n",
    "    with open(file_path, 'r', encoding='latin-1') as file:\n",
    "        lines = file.readlines()\n",
    "    \n",
    "    headers = lines[0].strip().split('\\t')\n",
    "    \n",
    "    data = []\n",
    "    for line in lines[1:]:\n",
    "        fields = line.strip().split('\\t')\n",
    "        if len(fields) < len(headers):\n",
    "            fields += [''] * (len(headers) - len(fields))\n",
    "        data.append(fields)\n",
    "    \n",
    "    df = pd.DataFrame(data, columns=headers)\n",
    "    return df\n",
    "\n",
    "text_file_path = 'data/NL RIVM-NEVO 2008-05-22.txt'\n",
    "df_nevo_langal = read_text_file(text_file_path)\n",
    "df_nevo_langal['LANGUALCODES'] = df_nevo_langal['LANGUALCODES'].apply(convert_to_set)\n",
    "\n",
    "df_nevo_langal = df_nevo_langal.rename(columns={'ENGFDNAM':'FoodName'})\n",
    "df_nevo_FoodName = df_nevo_langal['FoodName']\n",
    "df_nevo_FoodName.to_excel(\"Preprocess/Nevo_Preprocess_FoodNameOnly.xlsx\", index=False)"
   ]
  },
  {
   "cell_type": "markdown",
   "metadata": {},
   "source": [
    "# Faiss + Embedding"
   ]
  },
  {
   "cell_type": "code",
   "execution_count": 15,
   "metadata": {},
   "outputs": [],
   "source": [
    "from openai import OpenAI\n",
    "import os\n",
    "import numpy as np\n",
    "import pandas as pd\n",
    "import faiss\n",
    "\n",
    "client = OpenAI()\n",
    "client.api_key = os.getenv('OPENAI_API_KEY')"
   ]
  },
  {
   "cell_type": "code",
   "execution_count": 16,
   "metadata": {},
   "outputs": [],
   "source": [
    "# Load and preprocess data\n",
    "df_Frida_FoodName = pd.read_excel('Preprocess/Frida_Preprocess_FoodNameOnly.xlsx')\n",
    "df_Nevo_FoodName = pd.read_excel('Preprocess/Nevo_Preprocess_FoodNameOnly.xlsx')\n",
    "df_Frida_FoodName['FoodName'] = df_Frida_FoodName['FoodName'].astype(str).str.lower().dropna().reset_index(drop=True)\n",
    "df_Nevo_FoodName['FoodName'] = df_Nevo_FoodName['FoodName'].astype(str).str.lower().dropna().reset_index(drop=True)"
   ]
  },
  {
   "cell_type": "code",
   "execution_count": 17,
   "metadata": {},
   "outputs": [],
   "source": [
    "def get_embedding(text, model=\"text-embedding-3-small\"):\n",
    "   text = text.replace(\"\\n\", \" \")\n",
    "   return client.embeddings.create(input = [text], model=model).data[0].embedding"
   ]
  },
  {
   "cell_type": "code",
   "execution_count": 18,
   "metadata": {},
   "outputs": [],
   "source": [
    "# Generate embeddings for nevo\n",
    "df_Nevo_FoodName['Embedding'] = df_Nevo_FoodName['FoodName'].apply(get_embedding)\n",
    "embeddings = np.vstack(df_Nevo_FoodName['Embedding'].values)"
   ]
  },
  {
   "cell_type": "code",
   "execution_count": 20,
   "metadata": {},
   "outputs": [],
   "source": [
    "# Create a FAISS index for nevo\n",
    "index = faiss.IndexFlatL2(embeddings.shape[1])  # L2 distance\n",
    "index.add(embeddings)\n",
    "\n",
    "# Save the nevo FAISS index and DataFrame for later use\n",
    "faiss.write_index(index, 'models/indices/df_Nevo_FoodName_faiss_index.index')\n",
    "df_Nevo_FoodName.to_pickle('models/embeddings/df_Nevo_FoodName_embeddings.pkl')"
   ]
  },
  {
   "cell_type": "code",
   "execution_count": 50,
   "metadata": {},
   "outputs": [
    {
     "name": "stdout",
     "output_type": "stream",
     "text": [
      "['peas and carrots frozen unprepared', 'vegetables mixture for soup frozen', 'vegetables mixture for pea soup frozen']\n"
     ]
    }
   ],
   "source": [
    "import faiss\n",
    "import numpy as np\n",
    "\n",
    "\n",
    "# Load FAISS index and DataFrame\n",
    "index = faiss.read_index('df_Nevo_FoodName_faiss_index.index')\n",
    "df2 = pd.read_pickle('df_Nevo_FoodName_embeddings.pkl')\n",
    "\n",
    "def find_similar_food_names(food_name, df2, index, top_n=3):\n",
    "   # Get the embedding for the food name\n",
    "    food_embedding = np.array(get_embedding(food_name)).reshape(1, -1)\n",
    "    \n",
    "    # Search FAISS index\n",
    "    _, indices = index.search(food_embedding, top_n)\n",
    "    \n",
    "    # Get the similar food names\n",
    "    similar_food_names = df2.iloc[indices[0]]['FoodName'].tolist()\n",
    "    \n",
    "    return similar_food_names\n",
    "\n",
    "\n",
    "# # Example\n",
    "# food_name = 'Root vegetables, frozen'\n",
    "# similar_food_names = find_similar_food_names(food_name, df2, index)\n",
    "# print(similar_food_names)"
   ]
  },
  {
   "cell_type": "code",
   "execution_count": 64,
   "metadata": {},
   "outputs": [],
   "source": [
    "# Load and preprocess data\n",
    "df_Frida_FoodName = pd.read_excel('Preprocess/Frida_Preprocess_FoodNameOnly.xlsx')\n",
    "df_Frida_FoodName['FoodName'] = df_Frida_FoodName['FoodName'].astype(str).str.lower().dropna().reset_index(drop=True)\n",
    "\n",
    "for idx, food_name in df_Frida_FoodName['FoodName'].items():\n",
    "    similar_food_names = find_similar_food_names(food_name, df2, index)\n",
    "    df_Frida_FoodName.at[idx, 'SimilarFoodNames'] = '[' + ', '.join(f'\"{name}\"' for name in similar_food_names) + ']'\n",
    "    # print(f\"{food_name} : {similar_food_names}\")"
   ]
  },
  {
   "cell_type": "code",
   "execution_count": 66,
   "metadata": {},
   "outputs": [],
   "source": [
    "df_Frida_FoodName\n",
    "\n",
    "df_Frida_FoodName.to_excel(\"test_results/Faiss_Embedded_July18/results_testAll_frida_to_nevo.xlsx\", index=False)"
   ]
  },
  {
   "cell_type": "markdown",
   "metadata": {},
   "source": [
    "# Generate Embed for frida, then compare nevo to frida"
   ]
  },
  {
   "cell_type": "code",
   "execution_count": 5,
   "metadata": {},
   "outputs": [],
   "source": [
    "# Generate embeddings for frida\n",
    "import faiss\n",
    "import numpy as np\n",
    "\n",
    "def get_embedding(text, model=\"text-embedding-3-small\"):\n",
    "   text = text.replace(\"\\n\", \" \")\n",
    "   return client.embeddings.create(input = [text], model=model).data[0].embedding\n",
    "\n",
    "df_Frida_FoodName = pd.read_excel('Preprocess/Frida_Preprocess_FoodNameOnly.xlsx')\n",
    "df_Frida_FoodName['FoodName'] = df_Frida_FoodName['FoodName'].astype(str).str.lower().dropna().reset_index(drop=True)\n",
    "\n",
    "df_Frida_FoodName['Embedding'] = df_Frida_FoodName['FoodName'].apply(get_embedding)\n",
    "embeddings = np.vstack(df_Frida_FoodName['Embedding'].values)\n",
    "\n",
    "# Create a FAISS index for frida\n",
    "index = faiss.IndexFlatL2(embeddings.shape[1])  # L2 distance\n",
    "index.add(embeddings)\n",
    "\n",
    "# Save the frida FAISS index and DataFrame for later use\n",
    "faiss.write_index(index, 'df_Frida_FoodName_faiss_index.index')\n",
    "df_Frida_FoodName.to_pickle('df_Frida_FoodName_embeddings.pkl')"
   ]
  },
  {
   "cell_type": "code",
   "execution_count": 14,
   "metadata": {},
   "outputs": [],
   "source": [
    "# Save the frida FAISS index and DataFrame for later use\n",
    "faiss.write_index(index, 'models/indices/df_Frida_FoodName_faiss_index.index')\n",
    "df_Frida_FoodName.to_pickle('models/embeddings/df_Frida_FoodName_embeddings.pkl')"
   ]
  },
  {
   "cell_type": "code",
   "execution_count": 8,
   "metadata": {},
   "outputs": [],
   "source": [
    "def find_similar_food_names(food_name, df2, index, top_n=3):\n",
    "   # Get the embedding for the food name\n",
    "    food_embedding = np.array(get_embedding(food_name)).reshape(1, -1)\n",
    "    \n",
    "    # Search FAISS index\n",
    "    _, indices = index.search(food_embedding, top_n)\n",
    "    \n",
    "    # Get the similar food names\n",
    "    similar_food_names = df2.iloc[indices[0]]['FoodName'].tolist()\n",
    "    \n",
    "    return similar_food_names\n",
    "\n",
    "# Load and preprocess data\n",
    "df_Nevo_FoodName = pd.read_excel('Preprocess/Nevo_Preprocess_FoodNameOnly.xlsx')\n",
    "df_Nevo_FoodName['FoodName'] = df_Nevo_FoodName['FoodName'].astype(str).str.lower().dropna().reset_index(drop=True)\n",
    "\n",
    "index = faiss.read_index('df_Frida_FoodName_faiss_index.index')\n",
    "df2 = pd.read_pickle('df_Frida_FoodName_embeddings.pkl')\n",
    "\n",
    "for idx, food_name in df_Nevo_FoodName['FoodName'].items():\n",
    "    similar_food_names = find_similar_food_names(food_name, df2, index)\n",
    "    df_Nevo_FoodName.at[idx, 'SimilarFoodNames'] = '[' + ', '.join(f'\"{name}\"' for name in similar_food_names) + ']'\n",
    "    # print(f\"{food_name} : {similar_food_names}\")"
   ]
  },
  {
   "cell_type": "code",
   "execution_count": 9,
   "metadata": {},
   "outputs": [],
   "source": [
    "df_Nevo_FoodName\n",
    "\n",
    "df_Nevo_FoodName.to_excel(\"test_results/Faiss_Embedded_July18/results_testAll_nevo_to_frida.xlsx\", index=False)"
   ]
  }
 ],
 "metadata": {
  "kernelspec": {
   "display_name": "Python 3",
   "language": "python",
   "name": "python3"
  },
  "language_info": {
   "codemirror_mode": {
    "name": "ipython",
    "version": 3
   },
   "file_extension": ".py",
   "mimetype": "text/x-python",
   "name": "python",
   "nbconvert_exporter": "python",
   "pygments_lexer": "ipython3",
   "version": "3.12.4"
  }
 },
 "nbformat": 4,
 "nbformat_minor": 2
}
