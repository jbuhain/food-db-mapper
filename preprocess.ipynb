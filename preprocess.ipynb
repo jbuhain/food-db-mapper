{
 "cells": [
  {
   "cell_type": "code",
   "execution_count": 6,
   "metadata": {},
   "outputs": [],
   "source": [
    "import pandas as pd\n",
    "import os\n",
    "import openpyxl\n",
    "\n",
    "def read_text_file(file_path):\n",
    "    with open(file_path, 'r', encoding='latin-1') as file:\n",
    "        lines = file.readlines()\n",
    "    \n",
    "    headers = lines[0].strip().split('\\t')\n",
    "    \n",
    "    data = []\n",
    "    for line in lines[1:]:\n",
    "        fields = line.strip().split('\\t')\n",
    "        if len(fields) < len(headers):\n",
    "            fields += [''] * (len(headers) - len(fields))\n",
    "        data.append(fields)\n",
    "    \n",
    "    df = pd.DataFrame(data, columns=headers)\n",
    "    return df\n",
    "\n",
    "def convert_to_set(langual_codes, delimiter=' '):\n",
    "    if isinstance(langual_codes, str):\n",
    "        return set(langual_codes.split(delimiter))\n",
    "    else:\n",
    "        return set()  # or np.nan to output NaN instead of set()\n",
    "\n",
    "def read_excel_file(excel_path, sheet_name):\n",
    "    xls = pd.ExcelFile(excel_path)\n",
    "    df = pd.read_excel(xls, sheet_name)\n",
    "    return df"
   ]
  },
  {
   "cell_type": "code",
   "execution_count": 2,
   "metadata": {},
   "outputs": [],
   "source": [
    "# Preprocess nevo db\n",
    "def preprocess_nevo():\n",
    "    df_nevo_langal = pd.DataFrame()\n",
    "\n",
    "    text_file_path = 'data/NL RIVM-NEVO 2008-05-22.txt'\n",
    "    df_nevo_langal = read_text_file(text_file_path)\n",
    "\n",
    "    df_nevo_langal['LANGUALCODES'] = df_nevo_langal['LANGUALCODES'].apply(convert_to_set)\n",
    "\n",
    "    df_nevo_langal = df_nevo_langal.rename(columns={'ENGFDNAM':'FoodName'})\n",
    "    df_nevo_langal = df_nevo_langal.rename(columns={'FOODID':'FoodID'})\n",
    "    df_nevo_langal = df_nevo_langal.rename(columns={'REMARKS':'Remarks'})\n",
    "    df_nevo_langal = df_nevo_langal.rename(columns={'LANGUALCODES':'LangualCodes'})\n",
    "    df_nevo_langal = df_nevo_langal.rename(columns={'ORIGFDNM':'OriginalFoodName'})\n",
    "\n",
    "    df_nevo_langal.to_excel(\"data/processed/preprocess/NL_RIVM-NEVO_2008-05-22.xlsx\", index=False)\n",
    "\n",
    "preprocess_nevo()"
   ]
  },
  {
   "cell_type": "code",
   "execution_count": 9,
   "metadata": {},
   "outputs": [],
   "source": [
    "# Preprocess frida db\n",
    "def preprocess_frida():\n",
    "    excel_file_path = 'data/raw/Frida_5.1_November_2023.xlsx'\n",
    "    df_frida_langal = read_excel_file(excel_file_path, 'Food')\n",
    "    df_frida_langal['LangualCode'] = df_frida_langal['LangualCode'].apply(lambda x: convert_to_set(x, delimiter=','))\n",
    "    \n",
    "    df_frida_langal = df_frida_langal.rename(columns={'FødevareNavn':'OriginalFoodName'})\n",
    "    df_frida_langal = df_frida_langal.rename(columns={'LangualCode':'LangualCodes'})\n",
    "\n",
    "    df_frida_langal.to_excel(\"data/processed/preprocess/Frida_preprocess_5.1_November_2023.xlsx\", index=False)\n",
    "\n",
    "preprocess_frida()"
   ]
  }
 ],
 "metadata": {
  "kernelspec": {
   "display_name": "Python 3",
   "language": "python",
   "name": "python3"
  },
  "language_info": {
   "codemirror_mode": {
    "name": "ipython",
    "version": 3
   },
   "file_extension": ".py",
   "mimetype": "text/x-python",
   "name": "python",
   "nbconvert_exporter": "python",
   "pygments_lexer": "ipython3",
   "version": "3.12.4"
  }
 },
 "nbformat": 4,
 "nbformat_minor": 2
}
